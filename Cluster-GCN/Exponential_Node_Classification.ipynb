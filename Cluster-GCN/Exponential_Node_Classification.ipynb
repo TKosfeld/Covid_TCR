{
  "nbformat": 4,
  "nbformat_minor": 0,
  "metadata": {
    "kernelspec": {
      "display_name": "Python 3",
      "language": "python",
      "name": "python3"
    },
    "language_info": {
      "codemirror_mode": {
        "name": "ipython",
        "version": 3
      },
      "file_extension": ".py",
      "mimetype": "text/x-python",
      "name": "python",
      "nbconvert_exporter": "python",
      "pygments_lexer": "ipython3",
      "version": "3.6.9"
    },
    "colab": {
      "name": "Capstone Model",
      "provenance": [],
      "collapsed_sections": [],
      "toc_visible": true
    }
  },
  "cells": [
    {
      "cell_type": "markdown",
      "metadata": {
        "id": "0"
      },
      "source": [
        "# Node classification with Cluster-GCN"
      ]
    },
    {
      "cell_type": "markdown",
      "metadata": {
        "nbsphinx": "hidden",
        "tags": [
          "CloudRunner"
        ],
        "id": "1"
      },
      "source": [
        "<table><tr><td>Run the latest release of this notebook:</td><td><a href=\"https://mybinder.org/v2/gh/stellargraph/stellargraph/master?urlpath=lab/tree/demos/node-classification/cluster-gcn-node-classification.ipynb\" alt=\"Open In Binder\" target=\"_parent\"><img src=\"https://mybinder.org/badge_logo.svg\"/></a></td><td><a href=\"https://colab.research.google.com/github/stellargraph/stellargraph/blob/master/demos/node-classification/cluster-gcn-node-classification.ipynb\" alt=\"Open In Colab\" target=\"_parent\"><img src=\"https://colab.research.google.com/assets/colab-badge.svg\"/></a></td></tr></table>"
      ]
    },
    {
      "cell_type": "markdown",
      "metadata": {
        "id": "2"
      },
      "source": [
        "This notebook demonstrates how to use `StellarGraph`'s implementation of *Cluster-GCN*, [1], for node classification on a homogeneous graph.\n",
        "\n",
        "*Cluster-GCN* is a training method for scalable training of deeper Graph Neural Networks using Stochastic Gradient Descent (SGD). It is implemented as the `ClusterNodeGenerator` class ([docs](https://stellargraph.readthedocs.io/en/stable/api.html#stellargraph.mapper.ClusterNodeGenerator)) in StellarGraph, which can be used with [GCN](https://stellargraph.readthedocs.io/en/stable/api.html#stellargraph.layer.GCN) [2] (demonstrated here), [GAT](https://stellargraph.readthedocs.io/en/stable/api.html#stellargraph.layer.GAT) and [APPNP](https://stellargraph.readthedocs.io/en/stable/api.html#stellargraph.layer.APPNP) models.\n",
        "\n",
        "As a first step, *Cluster-GCN* splits a given graph into `k` non-overlapping subgraphs, i.e., no two subgraphs share a node. In [1], it is suggested that for best classification performance, the *METIS* graph clustering algorithm, [3], should be utilised; *METIS* groups together nodes that form a well connected neighborhood with few connections to other subgraphs. The default clustering algorithm `StellarGraph` uses is the random assignment of nodes to clusters. The user is free to use any suitable clustering algorithm to determine the clusters before training the *Cluster-GCN* model. \n",
        "\n",
        "This notebook demonstrates how to use either random clustering or METIS. For the latter, it is necessary that 3rd party software has correctly been installed; later, we provide links to websites that host the software and provide detailed installation instructions. \n",
        "\n",
        "During model training, each subgraph or combination of subgraphs is treated as a mini-batch for estimating the parameters of a *GCN* model. A pass over all subgraphs is considered a training epoch.\n",
        "\n",
        "*Cluster-GCN* further extends *GCN* from the transductive to the inductive setting but this is not demonstrated in this notebook.\n",
        "\n",
        "This notebook demonstrates *Cluster-GCN* for node classification using 2 citation network datasets, `Cora` and `PubMed-Diabetes`.\n",
        "\n",
        "**References**\n",
        "\n",
        "[1] Cluster-GCN: An Efficient Algorithm for Training Deep and Large Graph Convolutional Networks. W. Chiang, X. Liu, S. Si, Y. Li, S. Bengio, and C. Hsiej, KDD, 2019, arXiv:1905.07953 ([download link](https://arxiv.org/abs/1905.07953))\n",
        "\n",
        "[2] Semi-Supervised Classification with Graph Convolutional Networks. T. Kipf, M. Welling. ICLR 2017. arXiv:1609.02907 ([download link](https://arxiv.org/abs/1609.02907))\n",
        "\n",
        "[3] METIS: Serial Graph Partitioning and Fill-reducing Matrix Ordering. ([download link](http://glaros.dtc.umn.edu/gkhome/views/metis))"
      ]
    },
    {
      "cell_type": "code",
      "metadata": {
        "nbsphinx": "hidden",
        "tags": [
          "CloudRunner"
        ],
        "id": "3"
      },
      "source": [
        "# install StellarGraph if running on Google Colab\n",
        "import sys\n",
        "if 'google.colab' in sys.modules:\n",
        "  %pip install -q stellargraph[demos]==1.2.1"
      ],
      "execution_count": 1,
      "outputs": []
    },
    {
      "cell_type": "code",
      "metadata": {
        "nbsphinx": "hidden",
        "tags": [
          "VersionCheck"
        ],
        "id": "4"
      },
      "source": [
        "# verify that we're using the correct version of StellarGraph for this notebook\n",
        "import stellargraph as sg\n",
        "\n",
        "try:\n",
        "    sg.utils.validate_notebook_version(\"1.2.1\")\n",
        "except AttributeError:\n",
        "    raise ValueError(\n",
        "        f\"This notebook requires StellarGraph version 1.3.0b, but a different version {sg.__version__} is installed.  Please see <https://github.com/stellargraph/stellargraph/issues/1172>.\"\n",
        "    ) from None"
      ],
      "execution_count": 2,
      "outputs": []
    },
    {
      "cell_type": "code",
      "metadata": {
        "scrolled": true,
        "id": "5"
      },
      "source": [
        "import networkx as nx\n",
        "import pandas as pd\n",
        "import itertools\n",
        "import json\n",
        "import os\n",
        "\n",
        "import numpy as np\n",
        "\n",
        "from networkx.readwrite import json_graph\n",
        "\n",
        "from sklearn.preprocessing import StandardScaler\n",
        "\n",
        "import stellargraph as sg\n",
        "from stellargraph.mapper import ClusterNodeGenerator\n",
        "from stellargraph.layer import GCN\n",
        "from stellargraph import globalvar\n",
        "\n",
        "from tensorflow.keras import backend as K\n",
        "\n",
        "from tensorflow.keras import layers, optimizers, losses, metrics, Model\n",
        "from sklearn import preprocessing, feature_extraction, model_selection\n",
        "from stellargraph import datasets\n",
        "from IPython.display import display, HTML\n",
        "from IPython.display import display, HTML\n",
        "import matplotlib.pyplot as plt\n",
        "%matplotlib inline"
      ],
      "execution_count": 3,
      "outputs": []
    },
    {
      "cell_type": "markdown",
      "metadata": {
        "id": "6"
      },
      "source": [
        "## Loading the dataset\n",
        "\n",
        "This notebook demonstrates node classification using the *Cluster-GCN* algorithm using one of two citation networks, `Cora` and `Pubmed`."
      ]
    },
    {
      "cell_type": "code",
      "metadata": {
        "id": "7",
        "colab": {
          "base_uri": "https://localhost:8080/",
          "height": 85
        },
        "outputId": "189016b6-0c58-48f9-afcc-4597cfea8216"
      },
      "source": [
        "display(HTML(datasets.Cora().description))\n",
        "display(HTML(datasets.PubMedDiabetes().description))"
      ],
      "execution_count": 4,
      "outputs": [
        {
          "output_type": "display_data",
          "data": {
            "text/html": [
              "The Cora dataset consists of 2708 scientific publications classified into one of seven classes. The citation network consists of 5429 links. Each publication in the dataset is described by a 0/1-valued word vector indicating the absence/presence of the corresponding word from the dictionary. The dictionary consists of 1433 unique words."
            ],
            "text/plain": [
              "<IPython.core.display.HTML object>"
            ]
          },
          "metadata": {
            "tags": []
          }
        },
        {
          "output_type": "display_data",
          "data": {
            "text/html": [
              "The PubMed Diabetes dataset consists of 19717 scientific publications from PubMed database pertaining to diabetes classified into one of three classes. The citation network consists of 44338 links. Each publication in the dataset is described by a TF/IDF weighted word vector from a dictionary which consists of 500 unique words."
            ],
            "text/plain": [
              "<IPython.core.display.HTML object>"
            ]
          },
          "metadata": {
            "tags": []
          }
        }
      ]
    },
    {
      "cell_type": "markdown",
      "metadata": {
        "tags": [
          "DataLoadingLinks"
        ],
        "id": "8"
      },
      "source": [
        "(See [the \"Loading from Pandas\" demo](../basics/loading-pandas.ipynb) for details on how data can be loaded.)"
      ]
    },
    {
      "cell_type": "code",
      "metadata": {
        "tags": [
          "DataLoading"
        ],
        "id": "9",
        "colab": {
          "base_uri": "https://localhost:8080/"
        },
        "outputId": "4cece54d-7dbf-4604-c054-4f3fd1b38544"
      },
      "source": [
        "dataset = \"cora\"  # can also select 'pubmed'\n",
        "\n",
        "if dataset == \"cora\":\n",
        "    G, labels = datasets.Cora().load()\n",
        "elif dataset == \"pubmed\":\n",
        "    G, labels = datasets.PubMedDiabetes().load()\n",
        "\n",
        "print(G.info())"
      ],
      "execution_count": 5,
      "outputs": [
        {
          "output_type": "stream",
          "text": [
            "StellarGraph: Undirected multigraph\n",
            " Nodes: 2708, Edges: 5429\n",
            "\n",
            " Node types:\n",
            "  paper: [2708]\n",
            "    Features: float32 vector, length 1433\n",
            "    Edge types: paper-cites->paper\n",
            "\n",
            " Edge types:\n",
            "    paper-cites->paper: [5429]\n",
            "        Weights: all 1 (default)\n",
            "        Features: none\n"
          ],
          "name": "stdout"
        }
      ]
    },
    {
      "cell_type": "code",
      "metadata": {
        "id": "RqIEy0qK6M70",
        "colab": {
          "base_uri": "https://localhost:8080/"
        },
        "outputId": "dcd7016d-1f72-45a4-9818-3a88efe2624d"
      },
      "source": [
        "from stellargraph.datasets import Cora\r\n",
        "import os\r\n",
        "\r\n",
        "cora = Cora()\r\n",
        "cora.download()\r\n",
        "\r\n",
        "# the base_directory property tells us where it was downloaded to:\r\n",
        "cora_cites_file = os.path.join(cora.base_directory, \"Capstone_Edges.csv\")\r\n",
        "cora_content_file = os.path.join(cora.base_directory, \"Capstone.csv\")\r\n",
        "\r\n",
        "#male as 1, female as 0\r\n",
        "#hospitalized 1 as true, 0 as non\r\n",
        "cora_raw_content = pd.read_csv(\r\n",
        "    cora_content_file,\r\n",
        "    sep=\",\",  # tab-separated\r\n",
        "    header=0,  # no heading row\r\n",
        "    names=[\"id\", \"Age\", \"Gender\", \"Severity\", \"Count\"],  # set our own names for the columns\r\n",
        ")\r\n",
        "cora_raw_content = cora_raw_content.fillna(0)\r\n",
        "cora_raw_content\r\n",
        "\r\n",
        "cora_content_str_subject = cora_raw_content.set_index(\"id\")\r\n",
        "cora_content_str_subject\r\n",
        "\r\n",
        "cora_content_no_subject = cora_content_str_subject.drop(columns=[\"Age\"])\r\n",
        "#cora_content_no_subject = cora_content_str_subject\r\n",
        "cora_content_no_subject = cora_content_no_subject.drop(columns=[\"Gender\"])\r\n",
        "cora_content_no_subject = cora_content_no_subject.drop(columns=[\"Severity\"])\r\n",
        "cora_content_no_subject = cora_content_no_subject.applymap(str)\r\n",
        "cora_content_no_subject = cora_content_no_subject['Count'].str.split(pat = '', expand=True).add_prefix('10^_')  \r\n",
        "\r\n",
        "\r\n",
        "cora_content_no_subject\r\n",
        "cols = cora_content_no_subject.columns[:-1]\r\n",
        "cols\r\n",
        "\r\n",
        "\r\n"
      ],
      "execution_count": 6,
      "outputs": [
        {
          "output_type": "execute_result",
          "data": {
            "text/plain": [
              "Index(['10^_0', '10^_1', '10^_2', '10^_3', '10^_4', '10^_5', '10^_6'], dtype='object')"
            ]
          },
          "metadata": {
            "tags": []
          },
          "execution_count": 6
        }
      ]
    },
    {
      "cell_type": "code",
      "metadata": {
        "id": "07C8UwxEQ1w9",
        "colab": {
          "base_uri": "https://localhost:8080/",
          "height": 450
        },
        "outputId": "d64446cc-b209-454e-84de-1ff2f8b9fb65"
      },
      "source": [
        "cora_content_no_subject = cora_content_no_subject.drop('10^_0', 1)\r\n",
        "cora_content_no_subject.columns = cols\r\n",
        "cora_content_no_subject.replace('', np.nan, inplace=True) \r\n",
        "cora_content_no_subject = cora_content_no_subject.fillna(0, downcast = \"infer\")\r\n",
        "cora_content_no_subject = cora_content_no_subject.drop(['10^_0', '10^_1', '10^_2'], 1)\r\n",
        "cora_content_no_subject"
      ],
      "execution_count": 7,
      "outputs": [
        {
          "output_type": "execute_result",
          "data": {
            "text/html": [
              "<div>\n",
              "<style scoped>\n",
              "    .dataframe tbody tr th:only-of-type {\n",
              "        vertical-align: middle;\n",
              "    }\n",
              "\n",
              "    .dataframe tbody tr th {\n",
              "        vertical-align: top;\n",
              "    }\n",
              "\n",
              "    .dataframe thead th {\n",
              "        text-align: right;\n",
              "    }\n",
              "</style>\n",
              "<table border=\"1\" class=\"dataframe\">\n",
              "  <thead>\n",
              "    <tr style=\"text-align: right;\">\n",
              "      <th></th>\n",
              "      <th>10^_3</th>\n",
              "      <th>10^_4</th>\n",
              "      <th>10^_5</th>\n",
              "      <th>10^_6</th>\n",
              "    </tr>\n",
              "    <tr>\n",
              "      <th>id</th>\n",
              "      <th></th>\n",
              "      <th></th>\n",
              "      <th></th>\n",
              "      <th></th>\n",
              "    </tr>\n",
              "  </thead>\n",
              "  <tbody>\n",
              "    <tr>\n",
              "      <th>ADIRP0001066_TCRB</th>\n",
              "      <td>9</td>\n",
              "      <td>9</td>\n",
              "      <td>4</td>\n",
              "      <td>0</td>\n",
              "    </tr>\n",
              "    <tr>\n",
              "      <th>ADIRP0002514_TCRB</th>\n",
              "      <td>2</td>\n",
              "      <td>8</td>\n",
              "      <td>4</td>\n",
              "      <td>0</td>\n",
              "    </tr>\n",
              "    <tr>\n",
              "      <th>1337122BW_TCRB</th>\n",
              "      <td>7</td>\n",
              "      <td>2</td>\n",
              "      <td>8</td>\n",
              "      <td>0</td>\n",
              "    </tr>\n",
              "    <tr>\n",
              "      <th>1566486BW_TCRB</th>\n",
              "      <td>3</td>\n",
              "      <td>5</td>\n",
              "      <td>9</td>\n",
              "      <td>0</td>\n",
              "    </tr>\n",
              "    <tr>\n",
              "      <th>ADIRP0002279_TCRB</th>\n",
              "      <td>9</td>\n",
              "      <td>0</td>\n",
              "      <td>5</td>\n",
              "      <td>0</td>\n",
              "    </tr>\n",
              "    <tr>\n",
              "      <th>...</th>\n",
              "      <td>...</td>\n",
              "      <td>...</td>\n",
              "      <td>...</td>\n",
              "      <td>...</td>\n",
              "    </tr>\n",
              "    <tr>\n",
              "      <th>BS-GIGI_51-replacement_TCRB</th>\n",
              "      <td>6</td>\n",
              "      <td>6</td>\n",
              "      <td>0</td>\n",
              "      <td>0</td>\n",
              "    </tr>\n",
              "    <tr>\n",
              "      <th>BS-EQ-44-T0_BS-GIGI_11-replacement_TCRB</th>\n",
              "      <td>7</td>\n",
              "      <td>0</td>\n",
              "      <td>0</td>\n",
              "      <td>0</td>\n",
              "    </tr>\n",
              "    <tr>\n",
              "      <th>BS-EQ-44-T1-replacement_TCRB</th>\n",
              "      <td>6</td>\n",
              "      <td>0</td>\n",
              "      <td>0</td>\n",
              "      <td>0</td>\n",
              "    </tr>\n",
              "    <tr>\n",
              "      <th>BS-GIGI_11-replacement_TCRB</th>\n",
              "      <td>7</td>\n",
              "      <td>0</td>\n",
              "      <td>0</td>\n",
              "      <td>0</td>\n",
              "    </tr>\n",
              "    <tr>\n",
              "      <th>BS-GIGI_57-replacement_TCRB</th>\n",
              "      <td>9</td>\n",
              "      <td>0</td>\n",
              "      <td>0</td>\n",
              "      <td>0</td>\n",
              "    </tr>\n",
              "  </tbody>\n",
              "</table>\n",
              "<p>418 rows × 4 columns</p>\n",
              "</div>"
            ],
            "text/plain": [
              "                                        10^_3 10^_4 10^_5  10^_6\n",
              "id                                                              \n",
              "ADIRP0001066_TCRB                           9     9     4      0\n",
              "ADIRP0002514_TCRB                           2     8     4      0\n",
              "1337122BW_TCRB                              7     2     8      0\n",
              "1566486BW_TCRB                              3     5     9      0\n",
              "ADIRP0002279_TCRB                           9     0     5      0\n",
              "...                                       ...   ...   ...    ...\n",
              "BS-GIGI_51-replacement_TCRB                 6     6     0      0\n",
              "BS-EQ-44-T0_BS-GIGI_11-replacement_TCRB     7     0     0      0\n",
              "BS-EQ-44-T1-replacement_TCRB                6     0     0      0\n",
              "BS-GIGI_11-replacement_TCRB                 7     0     0      0\n",
              "BS-GIGI_57-replacement_TCRB                 9     0     0      0\n",
              "\n",
              "[418 rows x 4 columns]"
            ]
          },
          "metadata": {
            "tags": []
          },
          "execution_count": 7
        }
      ]
    },
    {
      "cell_type": "code",
      "metadata": {
        "id": "-yFmFd7kQJHD",
        "colab": {
          "base_uri": "https://localhost:8080/",
          "height": 450
        },
        "outputId": "9c2faf5e-b75a-4d05-baff-cf92559d84b2"
      },
      "source": [
        "cora_content_no_subject = cora_content_no_subject.applymap(int)\r\n",
        "cora_content_no_subject = cora_content_no_subject > 0\r\n",
        "cora_content_no_subject = cora_content_no_subject.applymap(int)\r\n",
        "cora_content_no_subject"
      ],
      "execution_count": 8,
      "outputs": [
        {
          "output_type": "execute_result",
          "data": {
            "text/html": [
              "<div>\n",
              "<style scoped>\n",
              "    .dataframe tbody tr th:only-of-type {\n",
              "        vertical-align: middle;\n",
              "    }\n",
              "\n",
              "    .dataframe tbody tr th {\n",
              "        vertical-align: top;\n",
              "    }\n",
              "\n",
              "    .dataframe thead th {\n",
              "        text-align: right;\n",
              "    }\n",
              "</style>\n",
              "<table border=\"1\" class=\"dataframe\">\n",
              "  <thead>\n",
              "    <tr style=\"text-align: right;\">\n",
              "      <th></th>\n",
              "      <th>10^_3</th>\n",
              "      <th>10^_4</th>\n",
              "      <th>10^_5</th>\n",
              "      <th>10^_6</th>\n",
              "    </tr>\n",
              "    <tr>\n",
              "      <th>id</th>\n",
              "      <th></th>\n",
              "      <th></th>\n",
              "      <th></th>\n",
              "      <th></th>\n",
              "    </tr>\n",
              "  </thead>\n",
              "  <tbody>\n",
              "    <tr>\n",
              "      <th>ADIRP0001066_TCRB</th>\n",
              "      <td>1</td>\n",
              "      <td>1</td>\n",
              "      <td>1</td>\n",
              "      <td>0</td>\n",
              "    </tr>\n",
              "    <tr>\n",
              "      <th>ADIRP0002514_TCRB</th>\n",
              "      <td>1</td>\n",
              "      <td>1</td>\n",
              "      <td>1</td>\n",
              "      <td>0</td>\n",
              "    </tr>\n",
              "    <tr>\n",
              "      <th>1337122BW_TCRB</th>\n",
              "      <td>1</td>\n",
              "      <td>1</td>\n",
              "      <td>1</td>\n",
              "      <td>0</td>\n",
              "    </tr>\n",
              "    <tr>\n",
              "      <th>1566486BW_TCRB</th>\n",
              "      <td>1</td>\n",
              "      <td>1</td>\n",
              "      <td>1</td>\n",
              "      <td>0</td>\n",
              "    </tr>\n",
              "    <tr>\n",
              "      <th>ADIRP0002279_TCRB</th>\n",
              "      <td>1</td>\n",
              "      <td>0</td>\n",
              "      <td>1</td>\n",
              "      <td>0</td>\n",
              "    </tr>\n",
              "    <tr>\n",
              "      <th>...</th>\n",
              "      <td>...</td>\n",
              "      <td>...</td>\n",
              "      <td>...</td>\n",
              "      <td>...</td>\n",
              "    </tr>\n",
              "    <tr>\n",
              "      <th>BS-GIGI_51-replacement_TCRB</th>\n",
              "      <td>1</td>\n",
              "      <td>1</td>\n",
              "      <td>0</td>\n",
              "      <td>0</td>\n",
              "    </tr>\n",
              "    <tr>\n",
              "      <th>BS-EQ-44-T0_BS-GIGI_11-replacement_TCRB</th>\n",
              "      <td>1</td>\n",
              "      <td>0</td>\n",
              "      <td>0</td>\n",
              "      <td>0</td>\n",
              "    </tr>\n",
              "    <tr>\n",
              "      <th>BS-EQ-44-T1-replacement_TCRB</th>\n",
              "      <td>1</td>\n",
              "      <td>0</td>\n",
              "      <td>0</td>\n",
              "      <td>0</td>\n",
              "    </tr>\n",
              "    <tr>\n",
              "      <th>BS-GIGI_11-replacement_TCRB</th>\n",
              "      <td>1</td>\n",
              "      <td>0</td>\n",
              "      <td>0</td>\n",
              "      <td>0</td>\n",
              "    </tr>\n",
              "    <tr>\n",
              "      <th>BS-GIGI_57-replacement_TCRB</th>\n",
              "      <td>1</td>\n",
              "      <td>0</td>\n",
              "      <td>0</td>\n",
              "      <td>0</td>\n",
              "    </tr>\n",
              "  </tbody>\n",
              "</table>\n",
              "<p>418 rows × 4 columns</p>\n",
              "</div>"
            ],
            "text/plain": [
              "                                         10^_3  10^_4  10^_5  10^_6\n",
              "id                                                                 \n",
              "ADIRP0001066_TCRB                            1      1      1      0\n",
              "ADIRP0002514_TCRB                            1      1      1      0\n",
              "1337122BW_TCRB                               1      1      1      0\n",
              "1566486BW_TCRB                               1      1      1      0\n",
              "ADIRP0002279_TCRB                            1      0      1      0\n",
              "...                                        ...    ...    ...    ...\n",
              "BS-GIGI_51-replacement_TCRB                  1      1      0      0\n",
              "BS-EQ-44-T0_BS-GIGI_11-replacement_TCRB      1      0      0      0\n",
              "BS-EQ-44-T1-replacement_TCRB                 1      0      0      0\n",
              "BS-GIGI_11-replacement_TCRB                  1      0      0      0\n",
              "BS-GIGI_57-replacement_TCRB                  1      0      0      0\n",
              "\n",
              "[418 rows x 4 columns]"
            ]
          },
          "metadata": {
            "tags": []
          },
          "execution_count": 8
        }
      ]
    },
    {
      "cell_type": "code",
      "metadata": {
        "id": "Ozv9HVLHQGs_",
        "colab": {
          "base_uri": "https://localhost:8080/"
        },
        "outputId": "32cfe0ee-6741-437f-c399-f7665910a9c3"
      },
      "source": [
        "from stellargraph import StellarGraph\r\n",
        "cora_no_subject = StellarGraph({\"sample\": cora_content_no_subject})\r\n",
        "print(cora_no_subject.info())\r\n",
        "\r\n",
        "cora_subject = cora_content_str_subject[\"Severity\"]\r\n",
        "cora_subject\r\n",
        "\r\n",
        "G = cora_no_subject\r\n",
        "labels = cora_subject"
      ],
      "execution_count": 9,
      "outputs": [
        {
          "output_type": "stream",
          "text": [
            "StellarGraph: Undirected multigraph\n",
            " Nodes: 418, Edges: 0\n",
            "\n",
            " Node types:\n",
            "  sample: [418]\n",
            "    Features: float32 vector, length 4\n",
            "    Edge types: none\n",
            "\n",
            " Edge types:\n"
          ],
          "name": "stdout"
        }
      ]
    },
    {
      "cell_type": "code",
      "metadata": {
        "id": "10",
        "colab": {
          "base_uri": "https://localhost:8080/"
        },
        "outputId": "bc465c23-8192-43e0-fe2a-b132de73fcc0"
      },
      "source": [
        "print(G.info())"
      ],
      "execution_count": 10,
      "outputs": [
        {
          "output_type": "stream",
          "text": [
            "StellarGraph: Undirected multigraph\n",
            " Nodes: 418, Edges: 0\n",
            "\n",
            " Node types:\n",
            "  sample: [418]\n",
            "    Features: float32 vector, length 4\n",
            "    Edge types: none\n",
            "\n",
            " Edge types:\n"
          ],
          "name": "stdout"
        }
      ]
    },
    {
      "cell_type": "code",
      "metadata": {
        "id": "aUo4d5CHLfWR",
        "colab": {
          "base_uri": "https://localhost:8080/",
          "height": 450
        },
        "outputId": "1f6b6f0c-63da-4a67-df4c-d3cc75a2915c"
      },
      "source": [
        "#cora_content_no_subject = cora_content_no_subject.applymap(str)\r\n",
        "#cora_content_no_subject = cora_content_no_subject['Count'].str.split(pat = '', expand=True).add_prefix('10^_')  \r\n",
        "cora_content_no_subject"
      ],
      "execution_count": 11,
      "outputs": [
        {
          "output_type": "execute_result",
          "data": {
            "text/html": [
              "<div>\n",
              "<style scoped>\n",
              "    .dataframe tbody tr th:only-of-type {\n",
              "        vertical-align: middle;\n",
              "    }\n",
              "\n",
              "    .dataframe tbody tr th {\n",
              "        vertical-align: top;\n",
              "    }\n",
              "\n",
              "    .dataframe thead th {\n",
              "        text-align: right;\n",
              "    }\n",
              "</style>\n",
              "<table border=\"1\" class=\"dataframe\">\n",
              "  <thead>\n",
              "    <tr style=\"text-align: right;\">\n",
              "      <th></th>\n",
              "      <th>10^_3</th>\n",
              "      <th>10^_4</th>\n",
              "      <th>10^_5</th>\n",
              "      <th>10^_6</th>\n",
              "    </tr>\n",
              "    <tr>\n",
              "      <th>id</th>\n",
              "      <th></th>\n",
              "      <th></th>\n",
              "      <th></th>\n",
              "      <th></th>\n",
              "    </tr>\n",
              "  </thead>\n",
              "  <tbody>\n",
              "    <tr>\n",
              "      <th>ADIRP0001066_TCRB</th>\n",
              "      <td>1</td>\n",
              "      <td>1</td>\n",
              "      <td>1</td>\n",
              "      <td>0</td>\n",
              "    </tr>\n",
              "    <tr>\n",
              "      <th>ADIRP0002514_TCRB</th>\n",
              "      <td>1</td>\n",
              "      <td>1</td>\n",
              "      <td>1</td>\n",
              "      <td>0</td>\n",
              "    </tr>\n",
              "    <tr>\n",
              "      <th>1337122BW_TCRB</th>\n",
              "      <td>1</td>\n",
              "      <td>1</td>\n",
              "      <td>1</td>\n",
              "      <td>0</td>\n",
              "    </tr>\n",
              "    <tr>\n",
              "      <th>1566486BW_TCRB</th>\n",
              "      <td>1</td>\n",
              "      <td>1</td>\n",
              "      <td>1</td>\n",
              "      <td>0</td>\n",
              "    </tr>\n",
              "    <tr>\n",
              "      <th>ADIRP0002279_TCRB</th>\n",
              "      <td>1</td>\n",
              "      <td>0</td>\n",
              "      <td>1</td>\n",
              "      <td>0</td>\n",
              "    </tr>\n",
              "    <tr>\n",
              "      <th>...</th>\n",
              "      <td>...</td>\n",
              "      <td>...</td>\n",
              "      <td>...</td>\n",
              "      <td>...</td>\n",
              "    </tr>\n",
              "    <tr>\n",
              "      <th>BS-GIGI_51-replacement_TCRB</th>\n",
              "      <td>1</td>\n",
              "      <td>1</td>\n",
              "      <td>0</td>\n",
              "      <td>0</td>\n",
              "    </tr>\n",
              "    <tr>\n",
              "      <th>BS-EQ-44-T0_BS-GIGI_11-replacement_TCRB</th>\n",
              "      <td>1</td>\n",
              "      <td>0</td>\n",
              "      <td>0</td>\n",
              "      <td>0</td>\n",
              "    </tr>\n",
              "    <tr>\n",
              "      <th>BS-EQ-44-T1-replacement_TCRB</th>\n",
              "      <td>1</td>\n",
              "      <td>0</td>\n",
              "      <td>0</td>\n",
              "      <td>0</td>\n",
              "    </tr>\n",
              "    <tr>\n",
              "      <th>BS-GIGI_11-replacement_TCRB</th>\n",
              "      <td>1</td>\n",
              "      <td>0</td>\n",
              "      <td>0</td>\n",
              "      <td>0</td>\n",
              "    </tr>\n",
              "    <tr>\n",
              "      <th>BS-GIGI_57-replacement_TCRB</th>\n",
              "      <td>1</td>\n",
              "      <td>0</td>\n",
              "      <td>0</td>\n",
              "      <td>0</td>\n",
              "    </tr>\n",
              "  </tbody>\n",
              "</table>\n",
              "<p>418 rows × 4 columns</p>\n",
              "</div>"
            ],
            "text/plain": [
              "                                         10^_3  10^_4  10^_5  10^_6\n",
              "id                                                                 \n",
              "ADIRP0001066_TCRB                            1      1      1      0\n",
              "ADIRP0002514_TCRB                            1      1      1      0\n",
              "1337122BW_TCRB                               1      1      1      0\n",
              "1566486BW_TCRB                               1      1      1      0\n",
              "ADIRP0002279_TCRB                            1      0      1      0\n",
              "...                                        ...    ...    ...    ...\n",
              "BS-GIGI_51-replacement_TCRB                  1      1      0      0\n",
              "BS-EQ-44-T0_BS-GIGI_11-replacement_TCRB      1      0      0      0\n",
              "BS-EQ-44-T1-replacement_TCRB                 1      0      0      0\n",
              "BS-GIGI_11-replacement_TCRB                  1      0      0      0\n",
              "BS-GIGI_57-replacement_TCRB                  1      0      0      0\n",
              "\n",
              "[418 rows x 4 columns]"
            ]
          },
          "metadata": {
            "tags": []
          },
          "execution_count": 11
        }
      ]
    },
    {
      "cell_type": "code",
      "metadata": {
        "id": "FVT93RILO6Is"
      },
      "source": [
        "#cora_content_no_subject.fillna(0, inplace=True)"
      ],
      "execution_count": 12,
      "outputs": []
    },
    {
      "cell_type": "code",
      "metadata": {
        "id": "RIgjdJZtPDtj"
      },
      "source": [
        ""
      ],
      "execution_count": 12,
      "outputs": []
    },
    {
      "cell_type": "code",
      "metadata": {
        "id": "11",
        "colab": {
          "base_uri": "https://localhost:8080/"
        },
        "outputId": "a3888000-a491-49ae-ba32-568e9689d9fe"
      },
      "source": [
        "set(labels)"
      ],
      "execution_count": 13,
      "outputs": [
        {
          "output_type": "execute_result",
          "data": {
            "text/plain": [
              "{'hospitalized', 'non-hospitalized'}"
            ]
          },
          "metadata": {
            "tags": []
          },
          "execution_count": 13
        }
      ]
    },
    {
      "cell_type": "markdown",
      "metadata": {
        "id": "12"
      },
      "source": [
        "### Splitting the data"
      ]
    },
    {
      "cell_type": "markdown",
      "metadata": {
        "id": "13"
      },
      "source": [
        "We aim to train a graph-ML model that will predict the **subject** or **label** (depending on the dataset) attribute on the nodes."
      ]
    },
    {
      "cell_type": "markdown",
      "metadata": {
        "id": "14"
      },
      "source": [
        "For machine learning we want to take a subset of the nodes for training, and use the rest for validation and testing. We'll use scikit-learn again to do this.\n",
        "\n",
        "The number of labeled nodes we use for training depends on the dataset. We use 140 labeled nodes for `Cora` and 60 for `Pubmed` training. The validation and test sets have the same sizes for both datasets. We use 500 nodes for validation and the rest for testing."
      ]
    },
    {
      "cell_type": "code",
      "metadata": {
        "id": "15"
      },
      "source": [
        "train_size = 150\n",
        "\n",
        "train_labels, test_labels = model_selection.train_test_split(\n",
        "    labels, train_size=train_size, test_size=None, stratify=labels\n",
        ")\n",
        "val_labels, test_labels = model_selection.train_test_split(\n",
        "    test_labels, train_size=100, test_size=None, stratify=test_labels\n",
        ")"
      ],
      "execution_count": 14,
      "outputs": []
    },
    {
      "cell_type": "markdown",
      "metadata": {
        "id": "16"
      },
      "source": [
        "Note using stratified sampling gives the following counts:"
      ]
    },
    {
      "cell_type": "code",
      "metadata": {
        "id": "17",
        "colab": {
          "base_uri": "https://localhost:8080/"
        },
        "outputId": "4c80ec0c-013f-494a-b60d-822ac6ec9129"
      },
      "source": [
        "from collections import Counter\n",
        "\n",
        "Counter(train_labels)"
      ],
      "execution_count": 15,
      "outputs": [
        {
          "output_type": "execute_result",
          "data": {
            "text/plain": [
              "Counter({'hospitalized': 75, 'non-hospitalized': 75})"
            ]
          },
          "metadata": {
            "tags": []
          },
          "execution_count": 15
        }
      ]
    },
    {
      "cell_type": "markdown",
      "metadata": {
        "id": "18"
      },
      "source": [
        "The training set has class imbalance that might need to be compensated, e.g., via using a weighted cross-entropy loss in model training, with class weights inversely proportional to class support. However, we will ignore the class imbalance in this example, for simplicity."
      ]
    },
    {
      "cell_type": "markdown",
      "metadata": {
        "id": "19"
      },
      "source": [
        "### Converting to numeric arrays"
      ]
    },
    {
      "cell_type": "code",
      "metadata": {
        "id": "FZrFbV6P9TEJ",
        "colab": {
          "base_uri": "https://localhost:8080/"
        },
        "outputId": "c988e8fb-ff0d-4938-a21b-1e15705c7410"
      },
      "source": [
        "preprocessing.LabelBinarizer()"
      ],
      "execution_count": 16,
      "outputs": [
        {
          "output_type": "execute_result",
          "data": {
            "text/plain": [
              "LabelBinarizer(neg_label=0, pos_label=1, sparse_output=False)"
            ]
          },
          "metadata": {
            "tags": []
          },
          "execution_count": 16
        }
      ]
    },
    {
      "cell_type": "markdown",
      "metadata": {
        "id": "20"
      },
      "source": [
        "For our categorical target, we will use one-hot vectors that will be fed into a soft-max Keras layer during training."
      ]
    },
    {
      "cell_type": "code",
      "metadata": {
        "id": "9AvhvrsD9X5W",
        "colab": {
          "base_uri": "https://localhost:8080/"
        },
        "outputId": "8e5e4b67-1b08-4047-8cb9-23e69066c1da"
      },
      "source": [
        "train_labels"
      ],
      "execution_count": 17,
      "outputs": [
        {
          "output_type": "execute_result",
          "data": {
            "text/plain": [
              "id\n",
              "ADIRP0002065_TCRB                 non-hospitalized\n",
              "4730BW_TCRB                       non-hospitalized\n",
              "ADIRP0002301_TCRB                 non-hospitalized\n",
              "ADIRP0001070_TCRB                 non-hospitalized\n",
              "ADIRP0000289_TCRB                 non-hospitalized\n",
              "                                        ...       \n",
              "860011284_TCRB                        hospitalized\n",
              "ADIRP0000357_TCRB                 non-hospitalized\n",
              "BS-EQ-0002-T2-replacement_TCRB        hospitalized\n",
              "712387BW_TCRB                     non-hospitalized\n",
              "860011337_TCRB                        hospitalized\n",
              "Name: Severity, Length: 150, dtype: object"
            ]
          },
          "metadata": {
            "tags": []
          },
          "execution_count": 17
        }
      ]
    },
    {
      "cell_type": "code",
      "metadata": {
        "id": "d_gHeMFF9Zeg",
        "colab": {
          "base_uri": "https://localhost:8080/"
        },
        "outputId": "c3dd91a3-b5a6-42ae-dffe-cde083f10f0c"
      },
      "source": [
        "val_labels"
      ],
      "execution_count": 18,
      "outputs": [
        {
          "output_type": "execute_result",
          "data": {
            "text/plain": [
              "id\n",
              "1566426BW_TCRB                              non-hospitalized\n",
              "ADIRP0000423_TCRB                           non-hospitalized\n",
              "BS-EQ-18-T2-replacement_TCRB                    hospitalized\n",
              "860011277_TCRB                                  hospitalized\n",
              "ADRIP00000961_TCRB                          non-hospitalized\n",
              "                                                  ...       \n",
              "BS-EQ-0027-T2-replacement_TCRB                  hospitalized\n",
              "860011130_TCRB                                  hospitalized\n",
              "727928BW_TCRB                               non-hospitalized\n",
              "BS-EQ-43-T1_BS-GIGI-137-replacement_TCRB        hospitalized\n",
              "ADIRP0002498_TCRB                           non-hospitalized\n",
              "Name: Severity, Length: 100, dtype: object"
            ]
          },
          "metadata": {
            "tags": []
          },
          "execution_count": 18
        }
      ]
    },
    {
      "cell_type": "code",
      "metadata": {
        "id": "CLP0UmFK9blz",
        "colab": {
          "base_uri": "https://localhost:8080/"
        },
        "outputId": "cd2277a3-6de8-4735-c28c-aa448c5c2479"
      },
      "source": [
        "test_labels"
      ],
      "execution_count": 19,
      "outputs": [
        {
          "output_type": "execute_result",
          "data": {
            "text/plain": [
              "id\n",
              "ADIRP0000090_TCRB               non-hospitalized\n",
              "ADIRP0002499_TCRB               non-hospitalized\n",
              "860011275_TCRB                      hospitalized\n",
              "BS-EQ-44-T1-replacement_TCRB        hospitalized\n",
              "5876BW_TCRB                     non-hospitalized\n",
              "                                      ...       \n",
              "860011281_TCRB                      hospitalized\n",
              "BS-GIGI_27-replacement_TCRB         hospitalized\n",
              "860011387_TCRB                      hospitalized\n",
              "ADIRP0001929_TCRB               non-hospitalized\n",
              "ADIRP0000679_TCRB               non-hospitalized\n",
              "Name: Severity, Length: 168, dtype: object"
            ]
          },
          "metadata": {
            "tags": []
          },
          "execution_count": 19
        }
      ]
    },
    {
      "cell_type": "code",
      "metadata": {
        "id": "21"
      },
      "source": [
        "target_encoding = preprocessing.LabelBinarizer()\n",
        "\n",
        "train_targets = target_encoding.fit_transform(train_labels)\n",
        "val_targets = target_encoding.transform(val_labels)\n",
        "test_targets = target_encoding.transform(test_labels)"
      ],
      "execution_count": 20,
      "outputs": []
    },
    {
      "cell_type": "markdown",
      "metadata": {
        "id": "22"
      },
      "source": [
        "Next, we prepare a Pandas DataFrame holding the node attributes we want to use to predict the subject. These are the feature vectors that the Keras model will use as input. `Cora` contains attributes 'w_x' that correspond to words found in that publication. If a word occurs more than once in a publication the relevant attribute will be set to one, otherwise it will be zero. `Pubmed` has similar feature vectors associated with each node but the values are [tf-idf.](https://en.wikipedia.org/wiki/Tf%E2%80%93idf)"
      ]
    },
    {
      "cell_type": "markdown",
      "metadata": {
        "id": "23"
      },
      "source": [
        "## Train using cluster GCN"
      ]
    },
    {
      "cell_type": "markdown",
      "metadata": {
        "id": "24"
      },
      "source": [
        "### Graph Clustering \n",
        "\n",
        "*Cluster-GCN* requires that a graph is clustered into `k` non-overlapping subgraphs. These subgraphs are used as batches to train a *GCN* model. \n",
        "\n",
        "Any graph clustering method can be used, including random clustering that is the default clustering method in `StellarGraph`. \n",
        "\n",
        "However, the choice of clustering algorithm can have a large impact on performance. In the *Cluster-GCN* paper, [1], it is suggested that the *METIS* algorithm is used as it produces subgraphs that are well connected with few intra-graph edges. \n",
        "\n",
        "This demo uses random clustering by default. \n",
        "\n",
        "#### METIS\n",
        "\n",
        "In order to use *METIS*, you must download and install the official implementation from [here](http://glaros.dtc.umn.edu/gkhome/views/metis). Also, you must install the Python `metis` library by following the instructions [here.](https://metis.readthedocs.io/en/latest/)"
      ]
    },
    {
      "cell_type": "code",
      "metadata": {
        "id": "25"
      },
      "source": [
        "number_of_clusters = 10  # the number of clusters/subgraphs\n",
        "clusters_per_batch = 2  # combine two cluster per batch\n",
        "random_clusters = True  # Set to False if you want to use METIS for clustering"
      ],
      "execution_count": 21,
      "outputs": []
    },
    {
      "cell_type": "code",
      "metadata": {
        "id": "26"
      },
      "source": [
        "node_ids = np.array(G.nodes())"
      ],
      "execution_count": 22,
      "outputs": []
    },
    {
      "cell_type": "code",
      "metadata": {
        "id": "27"
      },
      "source": [
        "if random_clusters:\n",
        "    # We don't have to specify the cluster because the CluserNodeGenerator will take\n",
        "    # care of the random clustering for us.\n",
        "    clusters = number_of_clusters\n",
        "else:\n",
        "    # We are going to use the METIS clustering algorith,\n",
        "    print(\"Graph clustering using the METIS algorithm.\")\n",
        "\n",
        "    import metis\n",
        "\n",
        "    lil_adj = G.to_adjacency_matrix().tolil()\n",
        "    adjlist = [tuple(neighbours) for neighbours in lil_adj.rows]\n",
        "\n",
        "    edgecuts, parts = metis.part_graph(adjlist, number_of_clusters)\n",
        "    parts = np.array(parts)\n",
        "    clusters = []\n",
        "    cluster_ids = np.unique(parts)\n",
        "    for cluster_id in cluster_ids:\n",
        "        mask = np.where(parts == cluster_id)\n",
        "        clusters.append(node_ids[mask])"
      ],
      "execution_count": 23,
      "outputs": []
    },
    {
      "cell_type": "markdown",
      "metadata": {
        "id": "28"
      },
      "source": [
        "Next we create the `ClusterNodeGenerator` object ([docs](https://stellargraph.readthedocs.io/en/stable/api.html#stellargraph.mapper.ClusterNodeGenerator)) that will give us access to a generator suitable for model training, evaluation, and prediction via the Keras API. \n",
        "\n",
        "We specify the number of clusters and the number of clusters to combine per batch, **q**."
      ]
    },
    {
      "cell_type": "code",
      "metadata": {
        "id": "29",
        "colab": {
          "base_uri": "https://localhost:8080/"
        },
        "outputId": "55841b41-d72e-4084-acfe-f40a1da3be37"
      },
      "source": [
        "generator = ClusterNodeGenerator(G, clusters=clusters, q=clusters_per_batch, lam=0.1)"
      ],
      "execution_count": 24,
      "outputs": [
        {
          "output_type": "stream",
          "text": [
            "Number of clusters 10\n",
            "0 cluster has size 41\n",
            "1 cluster has size 41\n",
            "2 cluster has size 41\n",
            "3 cluster has size 41\n",
            "4 cluster has size 41\n",
            "5 cluster has size 41\n",
            "6 cluster has size 41\n",
            "7 cluster has size 41\n",
            "8 cluster has size 41\n",
            "9 cluster has size 49\n"
          ],
          "name": "stdout"
        }
      ]
    },
    {
      "cell_type": "markdown",
      "metadata": {
        "id": "30"
      },
      "source": [
        "Now we can specify our machine learning model, we need a few more parameters for this:\n",
        "\n",
        " * the `layer_sizes` is a list of hidden feature sizes of each layer in the model. In this example we use two GCN layers with 32-dimensional hidden node features at each layer.\n",
        " * `activations` is a list of activations applied to each layer's output\n",
        " * `dropout=0.5` specifies a 50% dropout at each layer. "
      ]
    },
    {
      "cell_type": "markdown",
      "metadata": {
        "id": "31"
      },
      "source": [
        "We create the `GCN` model ([docs](https://stellargraph.readthedocs.io/en/stable/api.html#stellargraph.layer.GCN)) for training with *Cluster-GCN* as follows:"
      ]
    },
    {
      "cell_type": "code",
      "metadata": {
        "scrolled": true,
        "id": "32"
      },
      "source": [
        "cluster_gcn = GCN(\n",
        "    layer_sizes=[64, 16], activations=[\"relu\", \"relu\"], generator=generator, dropout=0.5\n",
        ")"
      ],
      "execution_count": 25,
      "outputs": []
    },
    {
      "cell_type": "markdown",
      "metadata": {
        "id": "33"
      },
      "source": [
        "To create a Keras model we now expose the input and output tensors of the *Cluster-GCN* model for node prediction, via the `GCN.in_out_tensors` method ([docs](https://stellargraph.readthedocs.io/en/stable/api.html#stellargraph.layer.GCN.in_out_tensors)):"
      ]
    },
    {
      "cell_type": "code",
      "metadata": {
        "id": "34"
      },
      "source": [
        "x_inp, x_out = cluster_gcn.in_out_tensors()"
      ],
      "execution_count": 26,
      "outputs": []
    },
    {
      "cell_type": "code",
      "metadata": {
        "id": "35",
        "colab": {
          "base_uri": "https://localhost:8080/"
        },
        "outputId": "1afef11f-1dfc-408f-d481-804893e852d7"
      },
      "source": [
        "x_inp"
      ],
      "execution_count": 27,
      "outputs": [
        {
          "output_type": "execute_result",
          "data": {
            "text/plain": [
              "[<KerasTensor: shape=(1, None, 4) dtype=float32 (created by layer 'input_1')>,\n",
              " <KerasTensor: shape=(1, None) dtype=int32 (created by layer 'input_2')>,\n",
              " <KerasTensor: shape=(1, None, None) dtype=float32 (created by layer 'input_3')>]"
            ]
          },
          "metadata": {
            "tags": []
          },
          "execution_count": 27
        }
      ]
    },
    {
      "cell_type": "code",
      "metadata": {
        "id": "36",
        "colab": {
          "base_uri": "https://localhost:8080/"
        },
        "outputId": "2e4073d5-3fbc-42ba-a2b1-4461148a46bf"
      },
      "source": [
        "x_out"
      ],
      "execution_count": 28,
      "outputs": [
        {
          "output_type": "execute_result",
          "data": {
            "text/plain": [
              "<KerasTensor: shape=(1, None, 16) dtype=float32 (created by layer 'gather_indices')>"
            ]
          },
          "metadata": {
            "tags": []
          },
          "execution_count": 28
        }
      ]
    },
    {
      "cell_type": "markdown",
      "metadata": {
        "id": "37"
      },
      "source": [
        "We are also going to add a final layer dense layer with softmax output activation. This layers performs classification so we set the number of units to equal the number of classes."
      ]
    },
    {
      "cell_type": "code",
      "metadata": {
        "id": "38"
      },
      "source": [
        "predictions = layers.Dense(1, activation=\"sigmoid\")(x_out)"
      ],
      "execution_count": 29,
      "outputs": []
    },
    {
      "cell_type": "code",
      "metadata": {
        "id": "39",
        "colab": {
          "base_uri": "https://localhost:8080/"
        },
        "outputId": "2148043f-dd1c-42b2-a1da-1b6c9e1996ea"
      },
      "source": [
        "predictions"
      ],
      "execution_count": 30,
      "outputs": [
        {
          "output_type": "execute_result",
          "data": {
            "text/plain": [
              "<KerasTensor: shape=(1, None, 1) dtype=float32 (created by layer 'dense')>"
            ]
          },
          "metadata": {
            "tags": []
          },
          "execution_count": 30
        }
      ]
    },
    {
      "cell_type": "markdown",
      "metadata": {
        "id": "40"
      },
      "source": [
        "Finally, we build the TensorFlow model and compile it specifying the loss function, optimiser, and metrics to monitor."
      ]
    },
    {
      "cell_type": "code",
      "metadata": {
        "id": "41"
      },
      "source": [
        "model = Model(inputs=x_inp, outputs=predictions)\n",
        "model.compile(\n",
        "    optimizer=optimizers.SGD(lr=0.001, nesterov=True),\n",
        "    loss=losses.categorical_crossentropy,\n",
        "    metrics=[\"acc\"],\n",
        ")"
      ],
      "execution_count": 31,
      "outputs": []
    },
    {
      "cell_type": "markdown",
      "metadata": {
        "id": "42"
      },
      "source": [
        "### Train the model"
      ]
    },
    {
      "cell_type": "markdown",
      "metadata": {
        "id": "43"
      },
      "source": [
        "We are now ready to train the `GCN` model using *Cluster-GCN*, keeping track of its loss and accuracy on the training set, and its generalisation performance on a validation set."
      ]
    },
    {
      "cell_type": "markdown",
      "metadata": {
        "id": "44"
      },
      "source": [
        "We need two generators, one for training and one for validation data. We can create such generators by calling the `flow` method of the `ClusterNodeGenerator` object we created earlier and specifying the node IDs and corresponding ground truth target values for each of the two datasets. "
      ]
    },
    {
      "cell_type": "code",
      "metadata": {
        "id": "45"
      },
      "source": [
        "train_gen = generator.flow(train_labels.index, train_targets, name=\"train\")\n",
        "val_gen = generator.flow(val_labels.index, val_targets, name=\"val\")"
      ],
      "execution_count": 32,
      "outputs": []
    },
    {
      "cell_type": "markdown",
      "metadata": {
        "id": "46"
      },
      "source": [
        "Finally, we are ready to train our `GCN` model by calling the `fit` method of our TensorFlow Keras model."
      ]
    },
    {
      "cell_type": "code",
      "metadata": {
        "id": "47",
        "colab": {
          "base_uri": "https://localhost:8080/"
        },
        "outputId": "2a3118ad-6d14-4927-8aaf-0aab24b84be8"
      },
      "source": [
        "history = model.fit(\n",
        "    train_gen, validation_data=val_gen, epochs=10, verbose=1, shuffle=False\n",
        ")"
      ],
      "execution_count": 33,
      "outputs": [
        {
          "output_type": "stream",
          "text": [
            "Epoch 1/10\n",
            "5/5 [==============================] - 1s 175ms/step - loss: 0.0000e+00 - acc: 0.5662 - val_loss: 0.0000e+00 - val_acc: 0.7000\n",
            "Epoch 2/10\n",
            "5/5 [==============================] - 0s 26ms/step - loss: 0.0000e+00 - acc: 0.6314 - val_loss: 0.0000e+00 - val_acc: 0.7000\n",
            "Epoch 3/10\n",
            "5/5 [==============================] - 0s 27ms/step - loss: 0.0000e+00 - acc: 0.5997 - val_loss: 0.0000e+00 - val_acc: 0.6600\n",
            "Epoch 4/10\n",
            "5/5 [==============================] - 0s 23ms/step - loss: 0.0000e+00 - acc: 0.6297 - val_loss: 0.0000e+00 - val_acc: 0.6600\n",
            "Epoch 5/10\n",
            "5/5 [==============================] - 0s 23ms/step - loss: 0.0000e+00 - acc: 0.5613 - val_loss: 0.0000e+00 - val_acc: 0.6600\n",
            "Epoch 6/10\n",
            "5/5 [==============================] - 0s 24ms/step - loss: 0.0000e+00 - acc: 0.5392 - val_loss: 0.0000e+00 - val_acc: 0.6600\n",
            "Epoch 7/10\n",
            "5/5 [==============================] - 0s 23ms/step - loss: 0.0000e+00 - acc: 0.5961 - val_loss: 0.0000e+00 - val_acc: 0.6600\n",
            "Epoch 8/10\n",
            "5/5 [==============================] - 0s 23ms/step - loss: 0.0000e+00 - acc: 0.5366 - val_loss: 0.0000e+00 - val_acc: 0.6600\n",
            "Epoch 9/10\n",
            "5/5 [==============================] - 0s 25ms/step - loss: 0.0000e+00 - acc: 0.5142 - val_loss: 0.0000e+00 - val_acc: 0.6600\n",
            "Epoch 10/10\n",
            "5/5 [==============================] - 0s 25ms/step - loss: 0.0000e+00 - acc: 0.5077 - val_loss: 0.0000e+00 - val_acc: 0.6600\n"
          ],
          "name": "stdout"
        }
      ]
    },
    {
      "cell_type": "markdown",
      "metadata": {
        "id": "48"
      },
      "source": [
        "Plot the training history:"
      ]
    },
    {
      "cell_type": "code",
      "metadata": {
        "id": "49",
        "colab": {
          "base_uri": "https://localhost:8080/",
          "height": 585
        },
        "outputId": "b0f2ed32-8132-48ef-9a60-435607c0e16c"
      },
      "source": [
        "sg.utils.plot_history(history)"
      ],
      "execution_count": 34,
      "outputs": [
        {
          "output_type": "display_data",
          "data": {
            "image/png": "[encoded data removed]",
            "text/plain": [
              "<Figure size 504x576 with 2 Axes>"
            ]
          },
          "metadata": {
            "tags": [],
            "needs_background": "light"
          }
        }
      ]
    },
    {
      "cell_type": "markdown",
      "metadata": {
        "id": "50"
      },
      "source": [
        "Evaluate the best model on the test set.\n",
        "\n",
        "Note that *Cluster-GCN* performance can be very poor if using random graph clustering. Using *METIS* instead of random graph clustering produces considerably better results."
      ]
    },
    {
      "cell_type": "code",
      "metadata": {
        "id": "51"
      },
      "source": [
        "test_gen = generator.flow(test_labels.index, test_targets)"
      ],
      "execution_count": 35,
      "outputs": []
    },
    {
      "cell_type": "code",
      "metadata": {
        "id": "52",
        "colab": {
          "base_uri": "https://localhost:8080/"
        },
        "outputId": "8963541e-4022-4282-bd87-17876df223ba"
      },
      "source": [
        "test_metrics = model.evaluate(test_gen)\n",
        "print(\"\\nTest Set Metrics:\")\n",
        "for name, val in zip(model.metrics_names, test_metrics):\n",
        "    print(\"\\t{}: {:0.4f}\".format(name, val))"
      ],
      "execution_count": 36,
      "outputs": [
        {
          "output_type": "stream",
          "text": [
            "5/5 [==============================] - 0s 7ms/step - loss: 0.0000e+00 - acc: 0.6964\n",
            "\n",
            "Test Set Metrics:\n",
            "\tloss: 0.0000\n",
            "\tacc: 0.6964\n"
          ],
          "name": "stdout"
        }
      ]
    },
    {
      "cell_type": "markdown",
      "metadata": {
        "id": "53"
      },
      "source": [
        "### Making predictions with the model"
      ]
    },
    {
      "cell_type": "markdown",
      "metadata": {
        "id": "54"
      },
      "source": [
        "For predictions to work correctly, we need to remove the extra batch dimensions necessary for the implementation of *Cluster-GCN* to work. We can easily achieve this by adding a layer after the dense predictions layer to remove this extra dimension."
      ]
    },
    {
      "cell_type": "code",
      "metadata": {
        "id": "55"
      },
      "source": [
        "predictions_flat = layers.Lambda(lambda x: K.squeeze(x, 0))(predictions)"
      ],
      "execution_count": 37,
      "outputs": []
    },
    {
      "cell_type": "code",
      "metadata": {
        "id": "56",
        "colab": {
          "base_uri": "https://localhost:8080/"
        },
        "outputId": "dd442d48-2073-408d-8387-80ad0b937f4b"
      },
      "source": [
        "# Notice that we have removed the first dimension\n",
        "predictions, predictions_flat"
      ],
      "execution_count": 38,
      "outputs": [
        {
          "output_type": "execute_result",
          "data": {
            "text/plain": [
              "(<KerasTensor: shape=(1, None, 1) dtype=float32 (created by layer 'dense')>,\n",
              " <KerasTensor: shape=(None, 1) dtype=float32 (created by layer 'lambda_1')>)"
            ]
          },
          "metadata": {
            "tags": []
          },
          "execution_count": 38
        }
      ]
    },
    {
      "cell_type": "markdown",
      "metadata": {
        "id": "57"
      },
      "source": [
        "Now let's get the predictions for all nodes.\n",
        "\n",
        "We need to create a new model using the same as before input Tensor and our new **predictions_flat** Tensor as the output. We are going to re-use the trained model weights."
      ]
    },
    {
      "cell_type": "code",
      "metadata": {
        "id": "58"
      },
      "source": [
        "model_predict = Model(inputs=x_inp, outputs=predictions_flat)"
      ],
      "execution_count": 39,
      "outputs": []
    },
    {
      "cell_type": "code",
      "metadata": {
        "id": "59"
      },
      "source": [
        "all_nodes = list(G.nodes())\n",
        "all_gen = generator.flow(all_nodes, name=\"all_gen\")\n",
        "all_predictions = model_predict.predict(all_gen)"
      ],
      "execution_count": 40,
      "outputs": []
    },
    {
      "cell_type": "code",
      "metadata": {
        "id": "60",
        "colab": {
          "base_uri": "https://localhost:8080/"
        },
        "outputId": "0a9f05df-810a-4a9a-904d-01619b1ffcc8"
      },
      "source": [
        "all_predictions.shape"
      ],
      "execution_count": 41,
      "outputs": [
        {
          "output_type": "execute_result",
          "data": {
            "text/plain": [
              "(418, 1)"
            ]
          },
          "metadata": {
            "tags": []
          },
          "execution_count": 41
        }
      ]
    },
    {
      "cell_type": "markdown",
      "metadata": {
        "id": "61"
      },
      "source": [
        "These predictions will be the output of the softmax layer, so to get final categories we'll use the `inverse_transform` method of our target attribute specification to turn these values back to the original categories."
      ]
    },
    {
      "cell_type": "code",
      "metadata": {
        "id": "62"
      },
      "source": [
        "node_predictions = target_encoding.inverse_transform(all_predictions)"
      ],
      "execution_count": 42,
      "outputs": []
    },
    {
      "cell_type": "markdown",
      "metadata": {
        "id": "63"
      },
      "source": [
        "Let's have a look at a few predictions after training the model:"
      ]
    },
    {
      "cell_type": "code",
      "metadata": {
        "id": "64",
        "colab": {
          "base_uri": "https://localhost:8080/"
        },
        "outputId": "03f7d0ac-b80e-430d-b486-7cef9d92b2d4"
      },
      "source": [
        "len(all_gen.node_order)"
      ],
      "execution_count": 43,
      "outputs": [
        {
          "output_type": "execute_result",
          "data": {
            "text/plain": [
              "418"
            ]
          },
          "metadata": {
            "tags": []
          },
          "execution_count": 43
        }
      ]
    },
    {
      "cell_type": "code",
      "metadata": {
        "id": "65",
        "colab": {
          "base_uri": "https://localhost:8080/",
          "height": 359
        },
        "outputId": "980e43d9-c467-45f4-d0df-686524586650"
      },
      "source": [
        "results = pd.Series(node_predictions, index=all_gen.node_order)\n",
        "df = pd.DataFrame({\"Predicted\": results, \"True\": labels})\n",
        "df.head(10)"
      ],
      "execution_count": 44,
      "outputs": [
        {
          "output_type": "execute_result",
          "data": {
            "text/html": [
              "<div>\n",
              "<style scoped>\n",
              "    .dataframe tbody tr th:only-of-type {\n",
              "        vertical-align: middle;\n",
              "    }\n",
              "\n",
              "    .dataframe tbody tr th {\n",
              "        vertical-align: top;\n",
              "    }\n",
              "\n",
              "    .dataframe thead th {\n",
              "        text-align: right;\n",
              "    }\n",
              "</style>\n",
              "<table border=\"1\" class=\"dataframe\">\n",
              "  <thead>\n",
              "    <tr style=\"text-align: right;\">\n",
              "      <th></th>\n",
              "      <th>Predicted</th>\n",
              "      <th>True</th>\n",
              "    </tr>\n",
              "  </thead>\n",
              "  <tbody>\n",
              "    <tr>\n",
              "      <th>1132289BW_TCRB</th>\n",
              "      <td>non-hospitalized</td>\n",
              "      <td>non-hospitalized</td>\n",
              "    </tr>\n",
              "    <tr>\n",
              "      <th>1222568BW_TCRB</th>\n",
              "      <td>hospitalized</td>\n",
              "      <td>non-hospitalized</td>\n",
              "    </tr>\n",
              "    <tr>\n",
              "      <th>1337122BW_TCRB</th>\n",
              "      <td>non-hospitalized</td>\n",
              "      <td>non-hospitalized</td>\n",
              "    </tr>\n",
              "    <tr>\n",
              "      <th>1445BW_TCRB</th>\n",
              "      <td>non-hospitalized</td>\n",
              "      <td>non-hospitalized</td>\n",
              "    </tr>\n",
              "    <tr>\n",
              "      <th>1564208BW_TCRB</th>\n",
              "      <td>non-hospitalized</td>\n",
              "      <td>non-hospitalized</td>\n",
              "    </tr>\n",
              "    <tr>\n",
              "      <th>1566265BW_TCRB</th>\n",
              "      <td>non-hospitalized</td>\n",
              "      <td>non-hospitalized</td>\n",
              "    </tr>\n",
              "    <tr>\n",
              "      <th>1566319BW_TCRB</th>\n",
              "      <td>non-hospitalized</td>\n",
              "      <td>non-hospitalized</td>\n",
              "    </tr>\n",
              "    <tr>\n",
              "      <th>1566426BW_TCRB</th>\n",
              "      <td>non-hospitalized</td>\n",
              "      <td>non-hospitalized</td>\n",
              "    </tr>\n",
              "    <tr>\n",
              "      <th>1566449BW_TCRB</th>\n",
              "      <td>non-hospitalized</td>\n",
              "      <td>non-hospitalized</td>\n",
              "    </tr>\n",
              "    <tr>\n",
              "      <th>1566486BW_TCRB</th>\n",
              "      <td>non-hospitalized</td>\n",
              "      <td>non-hospitalized</td>\n",
              "    </tr>\n",
              "  </tbody>\n",
              "</table>\n",
              "</div>"
            ],
            "text/plain": [
              "                       Predicted              True\n",
              "1132289BW_TCRB  non-hospitalized  non-hospitalized\n",
              "1222568BW_TCRB      hospitalized  non-hospitalized\n",
              "1337122BW_TCRB  non-hospitalized  non-hospitalized\n",
              "1445BW_TCRB     non-hospitalized  non-hospitalized\n",
              "1564208BW_TCRB  non-hospitalized  non-hospitalized\n",
              "1566265BW_TCRB  non-hospitalized  non-hospitalized\n",
              "1566319BW_TCRB  non-hospitalized  non-hospitalized\n",
              "1566426BW_TCRB  non-hospitalized  non-hospitalized\n",
              "1566449BW_TCRB  non-hospitalized  non-hospitalized\n",
              "1566486BW_TCRB  non-hospitalized  non-hospitalized"
            ]
          },
          "metadata": {
            "tags": []
          },
          "execution_count": 44
        }
      ]
    },
    {
      "cell_type": "code",
      "metadata": {
        "id": "YOBbJQD68Elp",
        "colab": {
          "base_uri": "https://localhost:8080/",
          "height": 419
        },
        "outputId": "de4ab4aa-669b-436c-8669-d93ab29156e6"
      },
      "source": [
        "df"
      ],
      "execution_count": 45,
      "outputs": [
        {
          "output_type": "execute_result",
          "data": {
            "text/html": [
              "<div>\n",
              "<style scoped>\n",
              "    .dataframe tbody tr th:only-of-type {\n",
              "        vertical-align: middle;\n",
              "    }\n",
              "\n",
              "    .dataframe tbody tr th {\n",
              "        vertical-align: top;\n",
              "    }\n",
              "\n",
              "    .dataframe thead th {\n",
              "        text-align: right;\n",
              "    }\n",
              "</style>\n",
              "<table border=\"1\" class=\"dataframe\">\n",
              "  <thead>\n",
              "    <tr style=\"text-align: right;\">\n",
              "      <th></th>\n",
              "      <th>Predicted</th>\n",
              "      <th>True</th>\n",
              "    </tr>\n",
              "  </thead>\n",
              "  <tbody>\n",
              "    <tr>\n",
              "      <th>1132289BW_TCRB</th>\n",
              "      <td>non-hospitalized</td>\n",
              "      <td>non-hospitalized</td>\n",
              "    </tr>\n",
              "    <tr>\n",
              "      <th>1222568BW_TCRB</th>\n",
              "      <td>hospitalized</td>\n",
              "      <td>non-hospitalized</td>\n",
              "    </tr>\n",
              "    <tr>\n",
              "      <th>1337122BW_TCRB</th>\n",
              "      <td>non-hospitalized</td>\n",
              "      <td>non-hospitalized</td>\n",
              "    </tr>\n",
              "    <tr>\n",
              "      <th>1445BW_TCRB</th>\n",
              "      <td>non-hospitalized</td>\n",
              "      <td>non-hospitalized</td>\n",
              "    </tr>\n",
              "    <tr>\n",
              "      <th>1564208BW_TCRB</th>\n",
              "      <td>non-hospitalized</td>\n",
              "      <td>non-hospitalized</td>\n",
              "    </tr>\n",
              "    <tr>\n",
              "      <th>...</th>\n",
              "      <td>...</td>\n",
              "      <td>...</td>\n",
              "    </tr>\n",
              "    <tr>\n",
              "      <th>BS-GIGI_83-replacement_TCRB</th>\n",
              "      <td>hospitalized</td>\n",
              "      <td>hospitalized</td>\n",
              "    </tr>\n",
              "    <tr>\n",
              "      <th>BS-GIGI_85-replacement_TCRB</th>\n",
              "      <td>hospitalized</td>\n",
              "      <td>hospitalized</td>\n",
              "    </tr>\n",
              "    <tr>\n",
              "      <th>BS-GIGI_92-replacement_TCRB</th>\n",
              "      <td>non-hospitalized</td>\n",
              "      <td>hospitalized</td>\n",
              "    </tr>\n",
              "    <tr>\n",
              "      <th>BS-GIGI_96-replacement_TCRB</th>\n",
              "      <td>hospitalized</td>\n",
              "      <td>hospitalized</td>\n",
              "    </tr>\n",
              "    <tr>\n",
              "      <th>BS-GN-0010-T0-replacement_TCRB</th>\n",
              "      <td>hospitalized</td>\n",
              "      <td>hospitalized</td>\n",
              "    </tr>\n",
              "  </tbody>\n",
              "</table>\n",
              "<p>418 rows × 2 columns</p>\n",
              "</div>"
            ],
            "text/plain": [
              "                                       Predicted              True\n",
              "1132289BW_TCRB                  non-hospitalized  non-hospitalized\n",
              "1222568BW_TCRB                      hospitalized  non-hospitalized\n",
              "1337122BW_TCRB                  non-hospitalized  non-hospitalized\n",
              "1445BW_TCRB                     non-hospitalized  non-hospitalized\n",
              "1564208BW_TCRB                  non-hospitalized  non-hospitalized\n",
              "...                                          ...               ...\n",
              "BS-GIGI_83-replacement_TCRB         hospitalized      hospitalized\n",
              "BS-GIGI_85-replacement_TCRB         hospitalized      hospitalized\n",
              "BS-GIGI_92-replacement_TCRB     non-hospitalized      hospitalized\n",
              "BS-GIGI_96-replacement_TCRB         hospitalized      hospitalized\n",
              "BS-GN-0010-T0-replacement_TCRB      hospitalized      hospitalized\n",
              "\n",
              "[418 rows x 2 columns]"
            ]
          },
          "metadata": {
            "tags": []
          },
          "execution_count": 45
        }
      ]
    },
    {
      "cell_type": "markdown",
      "metadata": {
        "id": "66"
      },
      "source": [
        "## Node embeddings\n",
        "\n",
        "Evaluate node embeddings as activations of the output of the last graph convolution layer in the `GCN` layer stack and visualise them, coloring nodes by their true subject label. We expect to see nice clusters of papers in the node embedding space, with papers of the same subject belonging to the same cluster.\n",
        "\n",
        "To calculate the node embeddings rather than the class predictions, we create a new model with the same inputs as we used previously `x_inp` but now the output is the embeddings `x_out` rather than the predicted class. Additionally note that the weights trained previously are kept in the new model.\n",
        "\n",
        "Note that the embeddings from the `GCN` model have a batch dimension of 1 so we `squeeze` this to get a matrix of $N_{nodes} \\times N_{emb}$."
      ]
    },
    {
      "cell_type": "code",
      "metadata": {
        "id": "67"
      },
      "source": [
        "x_out_flat = layers.Lambda(lambda x: K.squeeze(x, 0))(x_out)\n",
        "embedding_model = Model(inputs=x_inp, outputs=x_out_flat)"
      ],
      "execution_count": 46,
      "outputs": []
    },
    {
      "cell_type": "code",
      "metadata": {
        "id": "68",
        "colab": {
          "base_uri": "https://localhost:8080/"
        },
        "outputId": "acfae295-cb0e-44fd-dc3a-4fdc63b6d66d"
      },
      "source": [
        "emb = embedding_model.predict(all_gen, verbose=1)\n",
        "emb.shape"
      ],
      "execution_count": 47,
      "outputs": [
        {
          "output_type": "stream",
          "text": [
            "5/5 [==============================] - 0s 5ms/step\n"
          ],
          "name": "stdout"
        },
        {
          "output_type": "execute_result",
          "data": {
            "text/plain": [
              "(418, 16)"
            ]
          },
          "metadata": {
            "tags": []
          },
          "execution_count": 47
        }
      ]
    },
    {
      "cell_type": "markdown",
      "metadata": {
        "id": "69"
      },
      "source": [
        "Project the embeddings to 2d using either TSNE or PCA transform, and visualise, coloring nodes by their true subject label"
      ]
    },
    {
      "cell_type": "code",
      "metadata": {
        "id": "70"
      },
      "source": [
        "from sklearn.decomposition import PCA\n",
        "from sklearn.manifold import TSNE\n",
        "import pandas as pd\n",
        "import numpy as np"
      ],
      "execution_count": 48,
      "outputs": []
    },
    {
      "cell_type": "markdown",
      "metadata": {
        "id": "71"
      },
      "source": [
        "**Prediction Node Order**\n",
        "\n",
        "The predictions are not returned in the same order as the input nodes given. The generator object internally maintains the order of predictions. These are stored in the object's member variable `node_order`. We use `node_order` to re-index the `node_data` DataFrame such that the prediction order in `y` corresponds to that of node embeddings in `X`."
      ]
    },
    {
      "cell_type": "code",
      "metadata": {
        "id": "72"
      },
      "source": [
        "X = emb\n",
        "y = np.argmax(\n",
        "    target_encoding.transform(labels.reindex(index=all_gen.node_order)), axis=1,\n",
        ")"
      ],
      "execution_count": 49,
      "outputs": []
    },
    {
      "cell_type": "code",
      "metadata": {
        "id": "73"
      },
      "source": [
        "if X.shape[1] > 2:\n",
        "    transform = TSNE  # or use PCA for speed\n",
        "\n",
        "    trans = transform(n_components=2)\n",
        "    emb_transformed = pd.DataFrame(trans.fit_transform(X), index=all_gen.node_order)\n",
        "    emb_transformed[\"label\"] = y\n",
        "else:\n",
        "    emb_transformed = pd.DataFrame(X, index=list(G.nodes()))\n",
        "    emb_transformed = emb_transformed.rename(columns={\"0\": 0, \"1\": 1})\n",
        "    emb_transformed[\"label\"] = y"
      ],
      "execution_count": 50,
      "outputs": []
    },
    {
      "cell_type": "code",
      "metadata": {
        "colab": {
          "base_uri": "https://localhost:8080/",
          "height": 419
        },
        "id": "wBSbJvHFeiCc",
        "outputId": "e69958b9-f032-4da3-acca-d2320b955cfc"
      },
      "source": [
        "emb_transformed"
      ],
      "execution_count": 52,
      "outputs": [
        {
          "output_type": "execute_result",
          "data": {
            "text/html": [
              "<div>\n",
              "<style scoped>\n",
              "    .dataframe tbody tr th:only-of-type {\n",
              "        vertical-align: middle;\n",
              "    }\n",
              "\n",
              "    .dataframe tbody tr th {\n",
              "        vertical-align: top;\n",
              "    }\n",
              "\n",
              "    .dataframe thead th {\n",
              "        text-align: right;\n",
              "    }\n",
              "</style>\n",
              "<table border=\"1\" class=\"dataframe\">\n",
              "  <thead>\n",
              "    <tr style=\"text-align: right;\">\n",
              "      <th></th>\n",
              "      <th>0</th>\n",
              "      <th>1</th>\n",
              "      <th>label</th>\n",
              "    </tr>\n",
              "  </thead>\n",
              "  <tbody>\n",
              "    <tr>\n",
              "      <th>860011280_TCRB</th>\n",
              "      <td>-10.622845</td>\n",
              "      <td>1.142482</td>\n",
              "      <td>0</td>\n",
              "    </tr>\n",
              "    <tr>\n",
              "      <th>ADIRP0000387_TCRB</th>\n",
              "      <td>-13.315103</td>\n",
              "      <td>0.952843</td>\n",
              "      <td>0</td>\n",
              "    </tr>\n",
              "    <tr>\n",
              "      <th>BS-GIGI_70-replacement_TCRB</th>\n",
              "      <td>12.067469</td>\n",
              "      <td>9.530868</td>\n",
              "      <td>0</td>\n",
              "    </tr>\n",
              "    <tr>\n",
              "      <th>860011388_TCRB</th>\n",
              "      <td>-10.626473</td>\n",
              "      <td>0.985545</td>\n",
              "      <td>0</td>\n",
              "    </tr>\n",
              "    <tr>\n",
              "      <th>2987BW_TCRB</th>\n",
              "      <td>-10.626502</td>\n",
              "      <td>0.985470</td>\n",
              "      <td>0</td>\n",
              "    </tr>\n",
              "    <tr>\n",
              "      <th>...</th>\n",
              "      <td>...</td>\n",
              "      <td>...</td>\n",
              "      <td>...</td>\n",
              "    </tr>\n",
              "    <tr>\n",
              "      <th>ADIRP0001920_TCRB</th>\n",
              "      <td>9.895573</td>\n",
              "      <td>12.350867</td>\n",
              "      <td>0</td>\n",
              "    </tr>\n",
              "    <tr>\n",
              "      <th>BS-GIGI_58-replacement_TCRB</th>\n",
              "      <td>11.216889</td>\n",
              "      <td>9.528554</td>\n",
              "      <td>0</td>\n",
              "    </tr>\n",
              "    <tr>\n",
              "      <th>ADIRP0001145_TCRB</th>\n",
              "      <td>-10.152150</td>\n",
              "      <td>-0.846751</td>\n",
              "      <td>0</td>\n",
              "    </tr>\n",
              "    <tr>\n",
              "      <th>BS-EQ-17-T1b-replacement_TCRB</th>\n",
              "      <td>12.984257</td>\n",
              "      <td>-16.801601</td>\n",
              "      <td>0</td>\n",
              "    </tr>\n",
              "    <tr>\n",
              "      <th>ADIRP0001321_TCRB</th>\n",
              "      <td>-10.622893</td>\n",
              "      <td>1.142625</td>\n",
              "      <td>0</td>\n",
              "    </tr>\n",
              "  </tbody>\n",
              "</table>\n",
              "<p>418 rows × 3 columns</p>\n",
              "</div>"
            ],
            "text/plain": [
              "                                       0          1  label\n",
              "860011280_TCRB                -10.622845   1.142482      0\n",
              "ADIRP0000387_TCRB             -13.315103   0.952843      0\n",
              "BS-GIGI_70-replacement_TCRB    12.067469   9.530868      0\n",
              "860011388_TCRB                -10.626473   0.985545      0\n",
              "2987BW_TCRB                   -10.626502   0.985470      0\n",
              "...                                  ...        ...    ...\n",
              "ADIRP0001920_TCRB               9.895573  12.350867      0\n",
              "BS-GIGI_58-replacement_TCRB    11.216889   9.528554      0\n",
              "ADIRP0001145_TCRB             -10.152150  -0.846751      0\n",
              "BS-EQ-17-T1b-replacement_TCRB  12.984257 -16.801601      0\n",
              "ADIRP0001321_TCRB             -10.622893   1.142625      0\n",
              "\n",
              "[418 rows x 3 columns]"
            ]
          },
          "metadata": {
            "tags": []
          },
          "execution_count": 52
        }
      ]
    },
    {
      "cell_type": "code",
      "metadata": {
        "id": "74",
        "colab": {
          "base_uri": "https://localhost:8080/",
          "height": 897
        },
        "outputId": "d9fb747a-b40a-4867-e209-c0ae62664a79"
      },
      "source": [
        "alpha = 0.7\n",
        "\n",
        "fig, ax = plt.subplots(figsize=(15, 15))\n",
        "ax.scatter(\n",
        "    emb_transformed[0],\n",
        "    emb_transformed[1],\n",
        "    c=emb_transformed[\"label\"].astype(\"category\"),\n",
        "    cmap=\"jet\",\n",
        "    alpha=alpha,\n",
        ")\n",
        "ax.set(aspect=\"equal\", xlabel=\"$X_1$\", ylabel=\"$X_2$\")\n",
        "plt.title(\n",
        "    \"{} visualization of GCN embeddings for Covid-19 severity dataset\".format(transform.__name__)\n",
        ")\n",
        "plt.show()"
      ],
      "execution_count": 54,
      "outputs": [
        {
          "output_type": "display_data",
          "data": {
            "image/png": "[encoded data removed]",
            "text/plain": [
              "<Figure size 1080x1080 with 1 Axes>"
            ]
          },
          "metadata": {
            "tags": [],
            "needs_background": "light"
          }
        }
      ]
    },
    {
      "cell_type": "markdown",
      "metadata": {
        "nbsphinx": "hidden",
        "tags": [
          "CloudRunner"
        ],
        "id": "75"
      },
      "source": [
        "<table><tr><td>Run the latest release of this notebook:</td><td><a href=\"https://mybinder.org/v2/gh/stellargraph/stellargraph/master?urlpath=lab/tree/demos/node-classification/cluster-gcn-node-classification.ipynb\" alt=\"Open In Binder\" target=\"_parent\"><img src=\"https://mybinder.org/badge_logo.svg\"/></a></td><td><a href=\"https://colab.research.google.com/github/stellargraph/stellargraph/blob/master/demos/node-classification/cluster-gcn-node-classification.ipynb\" alt=\"Open In Colab\" target=\"_parent\"><img src=\"https://colab.research.google.com/assets/colab-badge.svg\"/></a></td></tr></table>"
      ]
    }
  ]
}